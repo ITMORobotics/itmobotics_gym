{
 "cells": [
  {
   "cell_type": "code",
   "execution_count": 1,
   "id": "1281fb94",
   "metadata": {},
   "outputs": [
    {
     "name": "stderr",
     "output_type": "stream",
     "text": [
      "pybullet build time: May 31 2023 09:24:34\n"
     ]
    }
   ],
   "source": [
    "import json\n",
    "import time\n",
    "import numpy as np\n",
    "from stable_baselines3 import PPO\n",
    "\n",
    "from stable_baselines3.common.vec_env import DummyVecEnv\n",
    "from itmobotics_gym.envs.single_robot_peginhole_env import SinglePegInHole"
   ]
  },
  {
   "cell_type": "code",
   "execution_count": 2,
   "id": "3309d61d",
   "metadata": {},
   "outputs": [
    {
     "name": "stdout",
     "output_type": "stream",
     "text": [
      "argv[0]=\n",
      "startThreads creating 1 threads.\n",
      "starting thread 0\n",
      "started thread 0 \n",
      "argc=3\n",
      "argv[0] = --unused\n",
      "argv[1] = \n",
      "argv[2] = --start_demo_name=Physics Server\n",
      "ExampleBrowserThreadFunc started\n",
      "X11 functions dynamically loaded using dlopen/dlsym OK!\n",
      "X11 functions dynamically loaded using dlopen/dlsym OK!\n",
      "Creating context\n",
      "Created GL 3.3 context\n",
      "Direct GLX rendering context obtained\n",
      "Making context current\n",
      "GL_VENDOR=NVIDIA Corporation\n",
      "GL_RENDERER=NVIDIA GeForce GTX 1050 Ti/PCIe/SSE2\n",
      "GL_VERSION=3.3.0 NVIDIA 520.61.05\n",
      "GL_SHADING_LANGUAGE_VERSION=3.30 NVIDIA via Cg compiler\n",
      "pthread_getconcurrency()=0\n",
      "Version = 3.3.0 NVIDIA 520.61.05\n",
      "Vendor = NVIDIA Corporation\n",
      "Renderer = NVIDIA GeForce GTX 1050 Ti/PCIe/SSE2\n",
      "b3Printf: Selected demo: Physics Server\n",
      "startThreads creating 1 threads.\n",
      "starting thread 0\n",
      "started thread 0 \n",
      "MotionThreadFunc thread started\n",
      "ven = NVIDIA Corporation\n",
      "ven = NVIDIA Corporation\n",
      "b3Printf: b3Warning[examples/Importers/ImportURDFDemo/BulletUrdfImporter.cpp,126]:\n",
      "\n",
      "b3Printf: No inertial data for link, using mass=1, localinertiadiagonal = 1,1,1, identity local inertial frame\n",
      "b3Printf: b3Warning[examples/Importers/ImportURDFDemo/BulletUrdfImporter.cpp,126]:\n",
      "\n",
      "b3Printf: base\n",
      "b3Printf: b3Warning[examples/Importers/ImportURDFDemo/BulletUrdfImporter.cpp,126]:\n",
      "\n",
      "b3Printf: No inertial data for link, using mass=1, localinertiadiagonal = 1,1,1, identity local inertial frame\n",
      "b3Printf: b3Warning[examples/Importers/ImportURDFDemo/BulletUrdfImporter.cpp,126]:\n",
      "\n",
      "b3Printf: base\n",
      "CONNECT CAMERA\n",
      "b3Printf: b3Warning[examples/Importers/ImportURDFDemo/BulletUrdfImporter.cpp,126]:\n",
      "\n",
      "b3Printf: No inertial data for link, using mass=1, localinertiadiagonal = 1,1,1, identity local inertial frame\n",
      "b3Printf: b3Warning[examples/Importers/ImportURDFDemo/BulletUrdfImporter.cpp,126]:\n",
      "\n",
      "b3Printf: base\n"
     ]
    }
   ],
   "source": [
    "with open('single_robot_peginhole_gui.json', encoding='UTF-8') as json_file:\n",
    "    env_config = json.load(json_file)\n",
    "\n",
    "env = DummyVecEnv([lambda: SinglePegInHole(env_config)])"
   ]
  },
  {
   "cell_type": "code",
   "execution_count": 3,
   "id": "33d12384",
   "metadata": {},
   "outputs": [
    {
     "data": {
      "text/plain": [
       "Box([-1. -1. -1. -1. -1. -1.], [1. 1. 1. 1. 1. 1.], (6,), float32)"
      ]
     },
     "execution_count": 3,
     "metadata": {},
     "output_type": "execute_result"
    }
   ],
   "source": [
    "env.action_space"
   ]
  },
  {
   "cell_type": "code",
   "execution_count": 4,
   "id": "9d9096bf",
   "metadata": {},
   "outputs": [
    {
     "data": {
      "text/plain": [
       "Dict(camera:Box([[[0 0 0]\n",
       "  [0 0 0]\n",
       "  [0 0 0]\n",
       "  ...\n",
       "  [0 0 0]\n",
       "  [0 0 0]\n",
       "  [0 0 0]]\n",
       "\n",
       " [[0 0 0]\n",
       "  [0 0 0]\n",
       "  [0 0 0]\n",
       "  ...\n",
       "  [0 0 0]\n",
       "  [0 0 0]\n",
       "  [0 0 0]]\n",
       "\n",
       " [[0 0 0]\n",
       "  [0 0 0]\n",
       "  [0 0 0]\n",
       "  ...\n",
       "  [0 0 0]\n",
       "  [0 0 0]\n",
       "  [0 0 0]]\n",
       "\n",
       " ...\n",
       "\n",
       " [[0 0 0]\n",
       "  [0 0 0]\n",
       "  [0 0 0]\n",
       "  ...\n",
       "  [0 0 0]\n",
       "  [0 0 0]\n",
       "  [0 0 0]]\n",
       "\n",
       " [[0 0 0]\n",
       "  [0 0 0]\n",
       "  [0 0 0]\n",
       "  ...\n",
       "  [0 0 0]\n",
       "  [0 0 0]\n",
       "  [0 0 0]]\n",
       "\n",
       " [[0 0 0]\n",
       "  [0 0 0]\n",
       "  [0 0 0]\n",
       "  ...\n",
       "  [0 0 0]\n",
       "  [0 0 0]\n",
       "  [0 0 0]]], [[[255 255 255]\n",
       "  [255 255 255]\n",
       "  [255 255 255]\n",
       "  ...\n",
       "  [255 255 255]\n",
       "  [255 255 255]\n",
       "  [255 255 255]]\n",
       "\n",
       " [[255 255 255]\n",
       "  [255 255 255]\n",
       "  [255 255 255]\n",
       "  ...\n",
       "  [255 255 255]\n",
       "  [255 255 255]\n",
       "  [255 255 255]]\n",
       "\n",
       " [[255 255 255]\n",
       "  [255 255 255]\n",
       "  [255 255 255]\n",
       "  ...\n",
       "  [255 255 255]\n",
       "  [255 255 255]\n",
       "  [255 255 255]]\n",
       "\n",
       " ...\n",
       "\n",
       " [[255 255 255]\n",
       "  [255 255 255]\n",
       "  [255 255 255]\n",
       "  ...\n",
       "  [255 255 255]\n",
       "  [255 255 255]\n",
       "  [255 255 255]]\n",
       "\n",
       " [[255 255 255]\n",
       "  [255 255 255]\n",
       "  [255 255 255]\n",
       "  ...\n",
       "  [255 255 255]\n",
       "  [255 255 255]\n",
       "  [255 255 255]]\n",
       "\n",
       " [[255 255 255]\n",
       "  [255 255 255]\n",
       "  [255 255 255]\n",
       "  ...\n",
       "  [255 255 255]\n",
       "  [255 255 255]\n",
       "  [255 255 255]]], (240, 320, 3), uint8), cart_force_torque:Box([-1000000. -1000000. -1000000.   -10000.   -10000.   -10000.], [1000000. 1000000. 1000000.   10000.   10000.   10000.], (6,), float32), cart_tf:Box([-10.   -10.   -10.    -6.28  -6.28  -6.28], [10.   10.   10.    6.28  6.28  6.28], (6,), float32))"
      ]
     },
     "execution_count": 4,
     "metadata": {},
     "output_type": "execute_result"
    }
   ],
   "source": [
    "env.observation_space"
   ]
  },
  {
   "cell_type": "code",
   "execution_count": 5,
   "id": "41d61c74",
   "metadata": {},
   "outputs": [
    {
     "name": "stdout",
     "output_type": "stream",
     "text": [
      "b3Printf: b3Warning[examples/Importers/ImportURDFDemo/BulletUrdfImporter.cpp,126]:\n",
      "\n",
      "b3Printf: No inertial data for link, using mass=1, localinertiadiagonal = 1,1,1, identity local inertial frame\n",
      "b3Printf: b3Warning[examples/Importers/ImportURDFDemo/BulletUrdfImporter.cpp,126]:\n",
      "\n",
      "b3Printf: base\n",
      "Replace object with name table\n",
      "b3Printf: b3Warning[examples/SharedMemory/PhysicsClientSharedMemory.cpp,1324]:\n",
      "\n",
      "b3Printf: Removing body failed\n",
      "Replace object with name hole\n"
     ]
    }
   ],
   "source": [
    "env.seed = int(time.time())\n",
    "obs = env.reset()"
   ]
  },
  {
   "cell_type": "code",
   "execution_count": 5,
   "id": "ec5c2ee9",
   "metadata": {},
   "outputs": [],
   "source": [
    "action = np.array([[0.0, -1.0, 0.0, \n",
    "                   1.0, 1.0, 0.0]])"
   ]
  },
  {
   "cell_type": "code",
   "execution_count": 7,
   "id": "f3f5dac2",
   "metadata": {},
   "outputs": [],
   "source": [
    "action = np.array([[0.0, 0.0, -1.0, \n",
    "                   0.0, 0.0, 1.0]])"
   ]
  },
  {
   "cell_type": "code",
   "execution_count": 8,
   "id": "4c3a378a",
   "metadata": {},
   "outputs": [
    {
     "name": "stdout",
     "output_type": "stream",
     "text": [
      "[-15.684779, -16.45529, -17.2696, -18.121767, -19.00661, -19.919672, -20.85711, -21.815619, -22.792368, -23.784912]\n",
      "[array([ 0.28285646,  0.39154384,  0.8364963 ,  2.8358984 , -0.01625785,\n",
      "        0.30090755], dtype=float32), array([ 0.28250045,  0.39130953,  0.85659534,  2.8358989 , -0.01626305,\n",
      "        0.3009063 ], dtype=float32), array([ 0.28213996,  0.3910723 ,  0.87669915,  2.8358996 , -0.01626779,\n",
      "        0.300905  ], dtype=float32), array([ 0.28177494,  0.39083222,  0.8968055 ,  2.8359003 , -0.01626873,\n",
      "        0.30090535], dtype=float32), array([ 0.28140518,  0.39058894,  0.91691214,  2.8359005 , -0.01627024,\n",
      "        0.30090466], dtype=float32), array([ 0.28103074,  0.39034256,  0.9370165 ,  2.8359008 , -0.01627198,\n",
      "        0.30090383], dtype=float32), array([ 0.2806516 ,  0.3900931 ,  0.95711625,  2.835901  , -0.01627396,\n",
      "        0.3009026 ], dtype=float32), array([ 0.2802675 ,  0.3898404 ,  0.977209  ,  2.8359013 , -0.01627623,\n",
      "        0.30090094], dtype=float32), array([ 0.2798784 ,  0.38958442,  0.9972924 ,  2.8359017 , -0.0162784 ,\n",
      "        0.3008995 ], dtype=float32), array([ 0.27948418,  0.3893251 ,  1.0173641 ,  2.8359025 , -0.01627969,\n",
      "        0.30090097], dtype=float32)]\n"
     ]
    }
   ],
   "source": [
    "rewards = []\n",
    "observs = []\n",
    "for _ in range(10):\n",
    "    obs, reward, done, info = env.step(action)\n",
    "    rewards.append(reward[0])\n",
    "    observs.append(obs['cart_tf'][0])\n",
    "\n",
    "print(rewards)\n",
    "print(observs)"
   ]
  },
  {
   "cell_type": "code",
   "execution_count": 22,
   "id": "ee78d85f",
   "metadata": {},
   "outputs": [
    {
     "data": {
      "text/plain": [
       "array([-5.9686136], dtype=float32)"
      ]
     },
     "execution_count": 22,
     "metadata": {},
     "output_type": "execute_result"
    }
   ],
   "source": [
    "obs, reward, done, info = env.step(action)\n",
    "reward"
   ]
  },
  {
   "cell_type": "code",
   "execution_count": null,
   "id": "bcfbe5f2",
   "metadata": {},
   "outputs": [],
   "source": [
    "env.close()"
   ]
  },
  {
   "cell_type": "code",
   "execution_count": 1,
   "id": "47949f66",
   "metadata": {},
   "outputs": [
    {
     "name": "stderr",
     "output_type": "stream",
     "text": [
      "pybullet build time: May 31 2023 09:24:34\n"
     ]
    },
    {
     "name": "stdout",
     "output_type": "stream",
     "text": [
      "argv[0]=\n",
      "startThreads creating 1 threads.\n",
      "starting thread 0\n",
      "started thread 0 \n",
      "argc=3\n",
      "argv[0] = --unused\n",
      "argv[1] = \n",
      "argv[2] = --start_demo_name=Physics Server\n",
      "ExampleBrowserThreadFunc started\n",
      "X11 functions dynamically loaded using dlopen/dlsym OK!\n",
      "X11 functions dynamically loaded using dlopen/dlsym OK!\n",
      "Creating context\n",
      "Created GL 3.3 context\n",
      "Direct GLX rendering context obtained\n",
      "Making context current\n",
      "GL_VENDOR=NVIDIA Corporation\n",
      "GL_RENDERER=NVIDIA GeForce GTX 1050 Ti/PCIe/SSE2\n",
      "GL_VERSION=3.3.0 NVIDIA 520.61.05\n",
      "GL_SHADING_LANGUAGE_VERSION=3.30 NVIDIA via Cg compiler\n",
      "pthread_getconcurrency()=0\n",
      "Version = 3.3.0 NVIDIA 520.61.05\n",
      "Vendor = NVIDIA Corporation\n",
      "Renderer = NVIDIA GeForce GTX 1050 Ti/PCIe/SSE2\n",
      "b3Printf: Selected demo: Physics Server\n",
      "startThreads creating 1 threads.\n",
      "starting thread 0\n",
      "started thread 0 \n",
      "MotionThreadFunc thread started\n",
      "ven = NVIDIA Corporation\n",
      "ven = NVIDIA Corporation\n",
      "b3Printf: b3Warning[examples/Importers/ImportURDFDemo/BulletUrdfImporter.cpp,126]:\n",
      "\n",
      "b3Printf: No inertial data for link, using mass=1, localinertiadiagonal = 1,1,1, identity local inertial frame\n",
      "b3Printf: b3Warning[examples/Importers/ImportURDFDemo/BulletUrdfImporter.cpp,126]:\n",
      "\n",
      "b3Printf: base\n",
      "CONNECT CAMERA\n",
      "b3Printf: b3Warning[examples/Importers/ImportURDFDemo/BulletUrdfImporter.cpp,126]:\n",
      "\n",
      "b3Printf: No inertial data for link, using mass=1, localinertiadiagonal = 1,1,1, identity local inertial frame\n",
      "b3Printf: b3Warning[examples/Importers/ImportURDFDemo/BulletUrdfImporter.cpp,126]:\n",
      "\n",
      "b3Printf: base\n",
      "b3Printf: b3Warning[examples/Importers/ImportURDFDemo/BulletUrdfImporter.cpp,126]:\n",
      "\n",
      "b3Printf: No inertial data for link, using mass=1, localinertiadiagonal = 1,1,1, identity local inertial frame\n",
      "b3Printf: b3Warning[examples/Importers/ImportURDFDemo/BulletUrdfImporter.cpp,126]:\n",
      "\n",
      "b3Printf: base\n",
      "b3Printf: b3Warning[examples/Importers/ImportURDFDemo/BulletUrdfImporter.cpp,126]:\n",
      "\n",
      "b3Printf: No inertial data for link, using mass=1, localinertiadiagonal = 1,1,1, identity local inertial frame\n",
      "b3Printf: b3Warning[examples/Importers/ImportURDFDemo/BulletUrdfImporter.cpp,126]:\n",
      "\n",
      "b3Printf: base\n",
      "Replace object with name table\n",
      "Replace object with name hole\n",
      "b3Printf: b3Warning[examples/SharedMemory/PhysicsClientSharedMemory.cpp,1324]:\n",
      "\n",
      "b3Printf: Removing body failed\n",
      "(6,)\n"
     ]
    },
    {
     "name": "stderr",
     "output_type": "stream",
     "text": [
      "  8%|▊         | 75/1000 [00:18<03:50,  4.02it/s]\n"
     ]
    },
    {
     "ename": "KeyboardInterrupt",
     "evalue": "",
     "output_type": "error",
     "traceback": [
      "\u001b[0;31m---------------------------------------------------------------------------\u001b[0m",
      "\u001b[0;31mKeyboardInterrupt\u001b[0m                         Traceback (most recent call last)",
      "Cell \u001b[0;32mIn[1], line 28\u001b[0m\n\u001b[1;32m     24\u001b[0m obs_img \u001b[39m=\u001b[39m obs[\u001b[39m'\u001b[39m\u001b[39mcamera\u001b[39m\u001b[39m'\u001b[39m]\n\u001b[1;32m     26\u001b[0m random_action \u001b[39m=\u001b[39m np\u001b[39m.\u001b[39mrandom\u001b[39m.\u001b[39muniform(\u001b[39m-\u001b[39m\u001b[39m1\u001b[39m, \u001b[39m1\u001b[39m, size\u001b[39m=\u001b[39m\u001b[39m6\u001b[39m)\n\u001b[0;32m---> 28\u001b[0m env\u001b[39m.\u001b[39;49m_sim\u001b[39m.\u001b[39;49msim_step()\n\u001b[1;32m     29\u001b[0m env\u001b[39m.\u001b[39m_take_action_vector(random_action)\n\u001b[1;32m     30\u001b[0m cv2\u001b[39m.\u001b[39mimshow(\u001b[39m'\u001b[39m\u001b[39mout\u001b[39m\u001b[39m'\u001b[39m, obs_img)\n",
      "File \u001b[0;32m~/KFS2/a1-venv/lib/python3.10/site-packages/itmobotics_sim-0.0.6-py3.10.egg/itmobotics_sim/pybullet_env/pybullet_world.py:175\u001b[0m, in \u001b[0;36mPyBulletWorld.sim_step\u001b[0;34m(self)\u001b[0m\n\u001b[1;32m    173\u001b[0m \u001b[39mif\u001b[39;00m \u001b[39mself\u001b[39m\u001b[39m.\u001b[39m__pybullet_gui_mode \u001b[39m==\u001b[39m pybullet\u001b[39m.\u001b[39mGUI:\n\u001b[1;32m    174\u001b[0m     dt \u001b[39m=\u001b[39m \u001b[39mmax\u001b[39m(\u001b[39mself\u001b[39m\u001b[39m.\u001b[39m__time_step\u001b[39m/\u001b[39m\u001b[39mself\u001b[39m\u001b[39m.\u001b[39m__time_scale \u001b[39m-\u001b[39m (\u001b[39mself\u001b[39m\u001b[39m.\u001b[39m__last_real_time \u001b[39m-\u001b[39m time\u001b[39m.\u001b[39mtime()), \u001b[39m0\u001b[39m)\n\u001b[0;32m--> 175\u001b[0m     time\u001b[39m.\u001b[39;49msleep(dt)\n\u001b[1;32m    176\u001b[0m     \u001b[39mself\u001b[39m\u001b[39m.\u001b[39m__blender_recorder\u001b[39m.\u001b[39madd_keyframe()\n\u001b[1;32m    177\u001b[0m \u001b[39mself\u001b[39m\u001b[39m.\u001b[39m__last_real_time \u001b[39m=\u001b[39m time\u001b[39m.\u001b[39mtime()\n",
      "\u001b[0;31mKeyboardInterrupt\u001b[0m: "
     ]
    }
   ],
   "source": [
    "import json\n",
    "import time\n",
    "from tqdm import tqdm\n",
    "import cv2\n",
    "\n",
    "\n",
    "import numpy as np\n",
    "from itmobotics_gym.envs.single_robot_pybullet_env import SingleRobotPyBulletEnv\n",
    "\n",
    "\n",
    "with open('single_robot_env.json', encoding='UTF-8') as json_file:\n",
    "    env_config = json.load(json_file)\n",
    "\n",
    "env = SingleRobotPyBulletEnv(env_config)\n",
    "env.seed = int(time.time())\n",
    "time.sleep(1.0)\n",
    "env.reset()\n",
    "time.sleep(1.0)\n",
    "\n",
    "random_action = np.random.uniform(-1, 1, size=6)\n",
    "print(random_action.shape)\n",
    "for i in tqdm(range(1000)):\n",
    "    obs = env.observation_state_as_dict()\n",
    "    obs_img = obs['camera']\n",
    "    \n",
    "    random_action = np.random.uniform(-1, 1, size=6)\n",
    "\n",
    "    env._sim.sim_step()\n",
    "    env._take_action_vector(random_action)\n",
    "    cv2.imshow('out', obs_img)\n",
    "    # cv2.imshow('out', env.render())\n",
    "    cv2.waitKey(1)\n",
    "    env.step(random_action)\n"
   ]
  }
 ],
 "metadata": {
  "kernelspec": {
   "display_name": "rl-venv",
   "language": "python",
   "name": "python3"
  },
  "language_info": {
   "codemirror_mode": {
    "name": "ipython",
    "version": 3
   },
   "file_extension": ".py",
   "mimetype": "text/x-python",
   "name": "python",
   "nbconvert_exporter": "python",
   "pygments_lexer": "ipython3",
   "version": "3.10.6"
  }
 },
 "nbformat": 4,
 "nbformat_minor": 5
}
